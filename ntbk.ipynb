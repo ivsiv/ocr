{
 "cells": [
  {
   "cell_type": "code",
   "execution_count": 1,
   "metadata": {},
   "outputs": [
    {
     "name": "stdout",
     "output_type": "stream",
     "text": [
      "hello. this notebook lists all files in files folder, process with easy ocr, detect names and append it into excel file excel.xlsx, \n"
     ]
    }
   ],
   "source": [
    "print('hello. this notebook lists all files in files folder, process with easy ocr, detect names and append it into excel file excel.xlsx, ')"
   ]
  },
  {
   "cell_type": "code",
   "execution_count": 2,
   "metadata": {},
   "outputs": [
    {
     "name": "stderr",
     "output_type": "stream",
     "text": [
      "Neither CUDA nor MPS are available - defaulting to CPU. Note: This module is much faster with a GPU.\n"
     ]
    },
    {
     "name": "stdout",
     "output_type": "stream",
     "text": [
      "20241226_013233.jpg\n",
      "./files\\20241226_013233.jpg\n",
      "Text from 20241226_013233.jpg:\n",
      "HR Ponovite korake dok Vam ne ponestane Vrpce: EN Repeat step &-d untll you have Just a Ilttle thick ramalnlng; Ismetelje a2 &)-d) lepeseket & zslnor vegelg: MZ Blr U2 qalin Ip qulana qodor &-d addimlarni tokrarloyin; FU Kipetey a tabadtno esaurire la lunghezza del cordoncina DG nlobropere crbnkare Or \"\" Ao %r\" AO MjvepnBaNe HA AbnxkMara Ha LT Pakartokite $-d IIngsnlus; kol balgsls vlrvele; opbbta LV Atkartot darbibas &-d Iidz beldzas auklas garums DIH Ponovite 4 d dok Vam ne ponestane uzice PL Powtorzyk krokl 4-da2 do momentu wyczerpanla dlugolcl Opakulte kroky al do konce delky provaU: wnurka, DE Wlederholen Sle dle Schrhte # d; blydie LAnge der Kordel erschoph IJL PT Repetir 0S Dassos &-d a1d sa esgolar 0 comprimento do cordel: Koriake samme d,kuni nobr plkkus 4440 0tya. RO Repatafil pajlla-d pJnd (Andva rJmdne doar pufin cordon Replta Ios pasos d haste egotar Ia longitud del cable As Ponovlte karake &-d dak Vam ne ponestane utice Repetlu els pasco} d flns que $acabl Ia Ilargada del cable. Ponavljalte 4-d, dokler vam ne Zmanjka dolllne vrike. FR Rapetez Ves etapes djusqu 4 ce que la lonqueur de (a chalna solt Sk Opakujte koky 4-dal dokanca dllky povrazU: Ga Enavakafert ra Dhuara @ 6 Ntyot va tkavtknOed ro uixor Tov vontoviou EN Finishhook Ha Lavllte kuku: AZ Bitirma Qarmadi HU Lezdrds hurokkal Alfinlre Igancio 0G 3a8+DWete Kykata: Uzaldte kablluta BIH Zevrlite kuku; Lv Pabelgt Jl; Ukontete hak PL Zakoncythak DE Den Heken beenden Lbpetege konks  pt Acabr gancha RO Finisared carligulul  ES Termine gencho Zavrlite kuku; Acabar € ganto Zakljutlte kavell FR Terminez le crochet Sk Ukontlte hak GR Tetxuote T0 vuto. cord HR Napomena: krajevi su odrezani pod visokom temperturom Clao sne @i nbsobn Note: The ends are heal cut $0 they wonT fray:Do not cut-~just pull the remaining preostalu kal qtatnje Aote Dovoljno Je da provutete viDcu through tne back sttches  AZ Oeyd;ucan yuksak temperaturun tasiri altinda kasilir kl; kohnalmarin: Qalan {nurunu arxa HU Figyelem: magas homersekleten vigtak meretre (qy vegax nam foxtarat Eagendo 7 dikislerdan Cekin; kasmayin maradek kabelt athur habso huntokon BG jabenerka KDahiate ce nonpabbat npM BhcoKa Temnepatypa; 44 aa He c€ Hakbcat Altentione: estremitd sono tagliate cldo per cnitare dhe # filxcina € suffkdente 5 Mpocto Manepnaie OcTahanata BpbB npe} BanhktC Webobe  passare cordoncino rimanente attravero le cudture postenon BiH  Napomena: krajevi SU Odrezanl pod Visokom temperaturom kako se ne bl rasparall: Pastaba: gallukal pripjaunami veikiant Jukitai temperatird, ted neusidevetu Dlezog Dovoljno je da provucete preostalu uzIcu kroz straznje Savove IStraukite Iikusl Iald- Per gulines slules Poznamka: konce se odrezavajl 2a tepla; takze se netrepl, Zbyvajid drat Jednoduse Lv Plezlme: nogriel augstas temperaturas Iedarbiba bi tle nesnsats Pretiet Dauat protannete zadniml svy: atllkulo auklu @ur ahmugurejam Suvem; DE Hinwels: Die Spitzen werden unter dem Einfluss der hohen Temperatur geschnitten s0 Uwaga: koncowki $ docinane wplywem wytokiei temortutuny a2qu Cemu me dass sie nicht ausfransen. Zlehen Sle einfach dle restliche Kordel durch dle hinteren Nahte: strzepla sle: Wystarcy poclagnac pozosLary przenod Brez tyine EtY Markus: otsad lbigatakse korge temperatuuri mojul; et need narmendaks; Uhtsalt Nota:as extremidades S40 cortad4sJOD @lorpan nJo deiqanbren [4Dpua tommake Jarelejaanud noor Iabl tagumise ombluse: restante atraves das costuras posteriorei Nota: los extremos se cortan con calor para que no se deshilachen; Basta con pasar RO Nota: Capetele sunt tJlate termic 49 €nu {e tcr dastrimiAu Lhatl - JpnTaea cabie sobrante por las costuras traseras cordonul rJmas prin cusdturile din sDule NOLa: els exlems €> Lallen mitjancant (escalloi de (anera no €s desfilln: RS Napomena: kralevl Su odseceni pod visokom temperrurom LIo Kncd  Nhiha prou que feu passar cable que sobra per les costures posteriors: Dovoljno Je da provucete preostalu uzicu kroz straznje Jvove; FR noter extremites sont coupees haute temperature afln qu'elles ne s'effilochent Opomba: konci 50 odrezanl pod vplivom visoke temperature d4i ne Hrgaja Samo pas: simplement le cordon restant travers les coutures arriere: potegnlte preostalo vrvIco skozi zadnje Iive: GR Enuelwon: OKDEC KoBovtal KaTW ano Oepuornra pia va unv €eoriouv Anka rpafnfre Sk Poznamka: konce sa odrezavaju 2a tepla tkze A nestrapioj4 Zostatapapovta TO unohoino Kopbovi HEoa ano TIC niOW Jednoducho pretiahnite zadnymi Svami EN Add a sllver bead; HR Dodajte srebrne kuglice: AZ Gumu; muncuq alava edin: HU Helyezze fel 42 ezust gyongyokel BG Aobabere cpebbphnTe Tonyera: Aggiungere le perline @ Jrgento; BIH Dodajte srebrne kugllce: Pridekite sldabrinlu: rutulluaus a Pridejte stflbrne kulicky: LV Pievlenot sudrabu loulles DE Fugen Sle Silberkugeln hinzu: PL Dodac srebine kulki: EE Lisage hobedased kuulid PT Acrescentar bolds Ue prali ES Anada cuentas de plala. RO Adjugali mJiged jrgintie: Afeglu boletes platejades: RS Dodajte srebrne kuglice FR Ajoutez des boules d'argent Dodajte srebre krogle: GR fpoodtote aonpueviec xavrpec: Sk Pridajte strieborne gulicky: 'a-d cord [ kordke  'd-d  gros korate epulsee. galus [ Pod quei Tuez pawec\n",
      "\n",
      "20241226_115344.jpg\n",
      "./files\\20241226_115344.jpg\n",
      "Text from 20241226_115344.jpg:\n",
      "ROMANIA PORIADOK VHLAVE KritICKE MYSLENIE NA KAZDY DEN I { 8 2 8 [Xtaa 3 2 Ile 1 Vn9 2 071 1 Martin Poliacik Linda Lancova Ked Wqouopjutoul 4 2 1 1 1 1 1 1 : 1 1 1 1 3\n",
      "\n"
     ]
    }
   ],
   "source": [
    "import easyocr\n",
    "import os\n",
    "import cv2\n",
    "\n",
    "# Create an EasyOCR reader\n",
    "reader = easyocr.Reader(['en'])  # Specify the languages you need, e.g., 'en' for English\n",
    "\n",
    "# Path to the directory containing your image files\n",
    "folder_path = './files'\n",
    "\n",
    "# Iterate over all files in the folder\n",
    "for filename in os.listdir(folder_path):\n",
    "    print(filename)\n",
    "    if filename.endswith(('.png', '.jpg', '.jpeg', '.tiff', '.bmp', '.gif')):\n",
    "        # Path to the image file\n",
    "        img_path = os.path.join(folder_path, filename)\n",
    "        print(img_path)\n",
    "        # Read the image using OpenCV\n",
    "        img = cv2.imread(img_path)\n",
    "\n",
    "        if img is None:\n",
    "            print(f\"Error: The image file {img_path} is empty or not found.\")\n",
    "            continue  # Skip to the next file if the image is empty\n",
    "\n",
    "        # Resize the image (e.g., resize to 2000 pixels on the longest side)\n",
    "        max_dimension = 2000\n",
    "        height, width = img.shape[:2]\n",
    "        if max(height, width) > max_dimension:\n",
    "            scaling_factor = max_dimension / float(max(height, width))\n",
    "            new_size = (int(width * scaling_factor), int(height * scaling_factor))\n",
    "            img = cv2.resize(img, new_size, interpolation=cv2.INTER_AREA)\n",
    "            cv2.imwrite(img_path, img)\n",
    "\n",
    "        # Use EasyOCR to extract text from the image\n",
    "        result = reader.readtext(img_path)\n",
    "        text = ' '.join([res[1] for res in result])\n",
    "        \n",
    "        # Print the extracted text\n",
    "        print(f'Text from {filename}:\\n{text}\\n')\n"
   ]
  },
  {
   "cell_type": "code",
   "execution_count": 3,
   "metadata": {},
   "outputs": [
    {
     "name": "stdout",
     "output_type": "stream",
     "text": [
      "Empty DataFrame\n",
      "Columns: [Entry, Name, Filename]\n",
      "Index: []\n"
     ]
    }
   ],
   "source": [
    "import pandas as pd\n",
    "\n",
    "# Path to your Excel file\n",
    "excel_file = './excel.xlsx'\n",
    "\n",
    "# Load the Excel file into a DataFrame\n",
    "df = pd.read_excel(excel_file)\n",
    "\n",
    "# Display the DataFrame\n",
    "print(df)\n"
   ]
  },
  {
   "cell_type": "code",
   "execution_count": 4,
   "metadata": {},
   "outputs": [
    {
     "name": "stdout",
     "output_type": "stream",
     "text": [
      "Detected name: Sophy Santino (confidence: 0.85)\n",
      "Detected name: John Doe (confidence: 0.85)\n",
      "Detected name: Sophy Santino (confidence: 0.85)\n",
      "Detected name: John Doe (confidence: 0.85)\n",
      "Detected name: sich morgen (confidence: 0.85)\n",
      "Detected name: Sophy Santino (confidence: 0.85)\n",
      "Detected name: John Doe (confidence: 0.85)\n",
      "Detected name: się jutro (confidence: 0.85)\n",
      "Detected name: Frantisek Karovany (confidence: 0.85)\n",
      "Detected name: Peter Repa (confidence: 0.85)\n",
      "Detected name: od rana (confidence: 0.85)\n",
      "Detected name: Jiří Kočí (confidence: 0.85)\n"
     ]
    }
   ],
   "source": [
    "from presidio_analyzer import AnalyzerEngine\n",
    "from presidio_analyzer.nlp_engine import SpacyNlpEngine\n",
    "\n",
    "# Initialize the NLP engine\n",
    "nlp_engine = SpacyNlpEngine()\n",
    "\n",
    "# Create the analyzer engine\n",
    "analyzer = AnalyzerEngine(nlp_engine=nlp_engine)\n",
    "\n",
    "# Define the text to analyze\n",
    "text = \"\"\" {\n",
    "    \"en\": \"Sophy Santino and John Doe are meeting tomorrow.\",\n",
    "    \"de\": \"Sophy Santino und John Doe treffen sich morgen.\",\n",
    "    \"pl\": \"Sophy Santino i John Doe spotkają się jutro.\",\n",
    "    \"sk\": \"Frantisek Karovany a Peter Repa trhali travu od rana.\",\n",
    "    \"cz\": \"Jiří Kočí ráno z okna skočí.\"\n",
    "}\"\"\"\n",
    "\n",
    "# Analyze the text for PII entities\n",
    "results = analyzer.analyze(text=text, entities=[\"PERSON\"], language=\"en\")\n",
    "\n",
    "# Define a confidence threshold\n",
    "confidence_threshold = 0.85\n",
    "\n",
    "# Print the detected names\n",
    "for result in results:\n",
    "    if result.entity_type == \"PERSON\":\n",
    "        if result.entity_type == \"PERSON\" and result.score >= confidence_threshold:\n",
    "            detected_name = text[result.start:result.end]\n",
    "            print(f\"Detected name: {detected_name} (confidence: {result.score})\")\n",
    "\n",
    "\n",
    "#add more languages:\n",
    "# terminal: python -m spacy download de_core_news_sm\n",
    "\n"
   ]
  },
  {
   "cell_type": "code",
   "execution_count": 5,
   "metadata": {},
   "outputs": [
    {
     "name": "stdout",
     "output_type": "stream",
     "text": [
      "Detected name: Sophy Santino\n",
      "Detected name: John Doe\n",
      "Detected name: Sophy Santino\n",
      "Detected name: John Doe\n",
      "Detected name: sich morgen\n",
      "Detected name: Sophy Santino\n",
      "Detected name: John Doe\n",
      "Detected name: się jutro\n",
      "Detected name: Frantisek Karovany\n",
      "Detected name: Peter Repa\n",
      "Detected name: od rana\n",
      "Detected name: Jiří Kočí\n",
      "12\n"
     ]
    },
    {
     "data": {
      "text/html": [
       "<div>\n",
       "<style scoped>\n",
       "    .dataframe tbody tr th:only-of-type {\n",
       "        vertical-align: middle;\n",
       "    }\n",
       "\n",
       "    .dataframe tbody tr th {\n",
       "        vertical-align: top;\n",
       "    }\n",
       "\n",
       "    .dataframe thead th {\n",
       "        text-align: right;\n",
       "    }\n",
       "</style>\n",
       "<table border=\"1\" class=\"dataframe\">\n",
       "  <thead>\n",
       "    <tr style=\"text-align: right;\">\n",
       "      <th></th>\n",
       "      <th>Entry</th>\n",
       "      <th>Name</th>\n",
       "      <th>Filename</th>\n",
       "    </tr>\n",
       "  </thead>\n",
       "  <tbody>\n",
       "    <tr>\n",
       "      <th>0</th>\n",
       "      <td>1</td>\n",
       "      <td>Sophy Santino</td>\n",
       "      <td>20241226_115344.jpg</td>\n",
       "    </tr>\n",
       "    <tr>\n",
       "      <th>1</th>\n",
       "      <td>2</td>\n",
       "      <td>John Doe</td>\n",
       "      <td>20241226_115344.jpg</td>\n",
       "    </tr>\n",
       "    <tr>\n",
       "      <th>2</th>\n",
       "      <td>3</td>\n",
       "      <td>Sophy Santino</td>\n",
       "      <td>20241226_115344.jpg</td>\n",
       "    </tr>\n",
       "    <tr>\n",
       "      <th>3</th>\n",
       "      <td>4</td>\n",
       "      <td>John Doe</td>\n",
       "      <td>20241226_115344.jpg</td>\n",
       "    </tr>\n",
       "    <tr>\n",
       "      <th>4</th>\n",
       "      <td>5</td>\n",
       "      <td>sich morgen</td>\n",
       "      <td>20241226_115344.jpg</td>\n",
       "    </tr>\n",
       "  </tbody>\n",
       "</table>\n",
       "</div>"
      ],
      "text/plain": [
       "   Entry           Name             Filename\n",
       "0      1  Sophy Santino  20241226_115344.jpg\n",
       "1      2       John Doe  20241226_115344.jpg\n",
       "2      3  Sophy Santino  20241226_115344.jpg\n",
       "3      4       John Doe  20241226_115344.jpg\n",
       "4      5    sich morgen  20241226_115344.jpg"
      ]
     },
     "execution_count": 5,
     "metadata": {},
     "output_type": "execute_result"
    }
   ],
   "source": [
    "for result in results:\n",
    "    if result.entity_type == \"PERSON\":\n",
    "        detected_name = text[result.start:result.end]\n",
    "\n",
    "        #add a condition if the name is known\n",
    "\n",
    "        # Get the current number of rows \n",
    "        new_row_index = df.shape[0] \n",
    "        df.loc[new_row_index] = [new_row_index +1, detected_name, filename] # Integrate with listdir loop in 1st cell\n",
    "        print(f\"Detected name: {detected_name}\")\n",
    "\n",
    "print(df.shape[0])\n",
    "df.head()"
   ]
  },
  {
   "cell_type": "code",
   "execution_count": 6,
   "metadata": {},
   "outputs": [],
   "source": [
    "# from transformers import pipeline\n",
    "\n",
    "# # Load a pre-trained model for NER\n",
    "# ner = pipeline(\"ner\", model=\"dbmdz/bert-large-cased-finetuned-conll03-english\")\n",
    "\n",
    "# def is_name(string):\n",
    "#     entities = ner(string)\n",
    "#     for entity in entities:\n",
    "#         if entity['entity'] == 'B-PER' or entity['entity'] == 'I-PER':\n",
    "#             print('True: ', string)\n",
    "#             return True\n",
    "#     print('False: ', string)\n",
    "#     return False\n",
    "\n",
    "# # Create a new DataFrame to store valid names\n",
    "# valid_df = pd.DataFrame(columns=df.columns)\n",
    "\n",
    "# # Iterate through each row in the DataFrame\n",
    "# for index, row in df.iterrows():\n",
    "#     if is_name(row['Name']):\n",
    "#         valid_df = valid_df.append(row)\n",
    "\n",
    "# # Reset index of the new DataFrame\n",
    "# valid_df.reset_index(drop=True, inplace=True)\n",
    "\n",
    "# # Print the filtered DataFrame\n",
    "# print(valid_df)\n",
    "\n",
    "\n"
   ]
  },
  {
   "cell_type": "code",
   "execution_count": 10,
   "metadata": {},
   "outputs": [
    {
     "name": "stderr",
     "output_type": "stream",
     "text": [
      "Some weights of the model checkpoint at dbmdz/bert-large-cased-finetuned-conll03-english were not used when initializing BertForTokenClassification: ['bert.pooler.dense.bias', 'bert.pooler.dense.weight']\n",
      "- This IS expected if you are initializing BertForTokenClassification from the checkpoint of a model trained on another task or with another architecture (e.g. initializing a BertForSequenceClassification model from a BertForPreTraining model).\n",
      "- This IS NOT expected if you are initializing BertForTokenClassification from the checkpoint of a model that you expect to be exactly identical (initializing a BertForSequenceClassification model from a BertForSequenceClassification model).\n",
      "Device set to use cpu\n"
     ]
    },
    {
     "name": "stdout",
     "output_type": "stream",
     "text": [
      "True:  Sophy Santino\n",
      "True:  John Doe\n",
      "True:  Sophy Santino\n",
      "True:  John Doe\n",
      "True:  Sophy Santino\n",
      "True:  John Doe\n",
      "True:  Frantisek Karovany\n",
      "True:  Peter Repa\n",
      "True:  Jiří Kočí\n",
      "   Entry                Name             Filename\n",
      "0      1       Sophy Santino  20241226_115344.jpg\n",
      "1      2            John Doe  20241226_115344.jpg\n",
      "2      3       Sophy Santino  20241226_115344.jpg\n",
      "3      4            John Doe  20241226_115344.jpg\n",
      "4      5       Sophy Santino  20241226_115344.jpg\n",
      "5      6            John Doe  20241226_115344.jpg\n",
      "6      7  Frantisek Karovany  20241226_115344.jpg\n",
      "7      8          Peter Repa  20241226_115344.jpg\n",
      "8      9           Jiří Kočí  20241226_115344.jpg\n"
     ]
    }
   ],
   "source": [
    "import pandas as pd\n",
    "from transformers import pipeline\n",
    "\n",
    "# Load a pre-trained model for NER\n",
    "ner = pipeline(\"ner\", model=\"dbmdz/bert-large-cased-finetuned-conll03-english\")\n",
    "\n",
    "def is_name(string):\n",
    "    entities = ner(string)\n",
    "    for entity in entities:\n",
    "        if entity['entity'] == 'B-PER' or entity['entity'] == 'I-PER':\n",
    "            print('True: ', string)\n",
    "            return True\n",
    "    print('False: ', string)\n",
    "    return False\n",
    "\n",
    "\n",
    "# Filter rows where 'Name' is a valid name\n",
    "valid_df = df[df['Name'].apply(is_name)]\n",
    "\n",
    "# Reset index of the filtered DataFrame\n",
    "valid_df.reset_index(drop=True, inplace=True)\n",
    "\n",
    "for i in range(0, valid_df.shape[0]):\n",
    "    valid_df.loc[i, 'Entry'] = i+1\n",
    "\n",
    "# Print the filtered DataFrame\n",
    "print(valid_df)\n"
   ]
  },
  {
   "cell_type": "code",
   "execution_count": 8,
   "metadata": {},
   "outputs": [
    {
     "data": {
      "text/html": [
       "<div>\n",
       "<style scoped>\n",
       "    .dataframe tbody tr th:only-of-type {\n",
       "        vertical-align: middle;\n",
       "    }\n",
       "\n",
       "    .dataframe tbody tr th {\n",
       "        vertical-align: top;\n",
       "    }\n",
       "\n",
       "    .dataframe thead th {\n",
       "        text-align: right;\n",
       "    }\n",
       "</style>\n",
       "<table border=\"1\" class=\"dataframe\">\n",
       "  <thead>\n",
       "    <tr style=\"text-align: right;\">\n",
       "      <th></th>\n",
       "      <th>Entry</th>\n",
       "      <th>Name</th>\n",
       "      <th>Filename</th>\n",
       "    </tr>\n",
       "  </thead>\n",
       "  <tbody>\n",
       "    <tr>\n",
       "      <th>0</th>\n",
       "      <td>1</td>\n",
       "      <td>Sophy Santino</td>\n",
       "      <td>20241226_115344.jpg</td>\n",
       "    </tr>\n",
       "    <tr>\n",
       "      <th>1</th>\n",
       "      <td>2</td>\n",
       "      <td>John Doe</td>\n",
       "      <td>20241226_115344.jpg</td>\n",
       "    </tr>\n",
       "    <tr>\n",
       "      <th>2</th>\n",
       "      <td>3</td>\n",
       "      <td>Sophy Santino</td>\n",
       "      <td>20241226_115344.jpg</td>\n",
       "    </tr>\n",
       "    <tr>\n",
       "      <th>3</th>\n",
       "      <td>4</td>\n",
       "      <td>John Doe</td>\n",
       "      <td>20241226_115344.jpg</td>\n",
       "    </tr>\n",
       "    <tr>\n",
       "      <th>4</th>\n",
       "      <td>6</td>\n",
       "      <td>Sophy Santino</td>\n",
       "      <td>20241226_115344.jpg</td>\n",
       "    </tr>\n",
       "    <tr>\n",
       "      <th>5</th>\n",
       "      <td>7</td>\n",
       "      <td>John Doe</td>\n",
       "      <td>20241226_115344.jpg</td>\n",
       "    </tr>\n",
       "    <tr>\n",
       "      <th>6</th>\n",
       "      <td>9</td>\n",
       "      <td>Frantisek Karovany</td>\n",
       "      <td>20241226_115344.jpg</td>\n",
       "    </tr>\n",
       "    <tr>\n",
       "      <th>7</th>\n",
       "      <td>10</td>\n",
       "      <td>Peter Repa</td>\n",
       "      <td>20241226_115344.jpg</td>\n",
       "    </tr>\n",
       "    <tr>\n",
       "      <th>8</th>\n",
       "      <td>12</td>\n",
       "      <td>Jiří Kočí</td>\n",
       "      <td>20241226_115344.jpg</td>\n",
       "    </tr>\n",
       "  </tbody>\n",
       "</table>\n",
       "</div>"
      ],
      "text/plain": [
       "   Entry                Name             Filename\n",
       "0      1       Sophy Santino  20241226_115344.jpg\n",
       "1      2            John Doe  20241226_115344.jpg\n",
       "2      3       Sophy Santino  20241226_115344.jpg\n",
       "3      4            John Doe  20241226_115344.jpg\n",
       "4      6       Sophy Santino  20241226_115344.jpg\n",
       "5      7            John Doe  20241226_115344.jpg\n",
       "6      9  Frantisek Karovany  20241226_115344.jpg\n",
       "7     10          Peter Repa  20241226_115344.jpg\n",
       "8     12           Jiří Kočí  20241226_115344.jpg"
      ]
     },
     "execution_count": 8,
     "metadata": {},
     "output_type": "execute_result"
    }
   ],
   "source": [
    "df = valid_df\n",
    "\n",
    "df.to_excel('excel.xlsx', index=False)\n",
    "df.head(15)"
   ]
  },
  {
   "cell_type": "markdown",
   "metadata": {},
   "source": [
    "## Extensions: new PII languages ##\n"
   ]
  },
  {
   "cell_type": "code",
   "execution_count": null,
   "metadata": {},
   "outputs": [],
   "source": []
  }
 ],
 "metadata": {
  "kernelspec": {
   "display_name": "py312",
   "language": "python",
   "name": "python3"
  },
  "language_info": {
   "codemirror_mode": {
    "name": "ipython",
    "version": 3
   },
   "file_extension": ".py",
   "mimetype": "text/x-python",
   "name": "python",
   "nbconvert_exporter": "python",
   "pygments_lexer": "ipython3",
   "version": "3.12.8"
  }
 },
 "nbformat": 4,
 "nbformat_minor": 2
}
